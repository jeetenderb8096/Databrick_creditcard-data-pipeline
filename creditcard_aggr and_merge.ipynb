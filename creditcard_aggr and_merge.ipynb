{
 "cells": [
  {
   "cell_type": "code",
   "execution_count": 0,
   "metadata": {
    "application/vnd.databricks.v1+cell": {
     "cellMetadata": {
      "byteLimit": 2048000,
      "rowLimit": 10000
     },
     "inputWidgets": {},
     "nuid": "f4b3a119-dee7-444a-a497-54dc223055e7",
     "showTitle": false,
     "tableResultSettingsMap": {},
     "title": ""
    }
   },
   "outputs": [],
   "source": [
    "# read cdc stream \n",
    "cdc_stream = spark.readStream.format(\"delta\")\\\n",
    "    .option(\"readChangeFeed\", \"true\") \\\n",
    "        .table(\"incremental_load.default.upi_transactions\")\n"
   ]
  },
  {
   "cell_type": "code",
   "execution_count": 0,
   "metadata": {
    "application/vnd.databricks.v1+cell": {
     "cellMetadata": {
      "byteLimit": 2048000,
      "rowLimit": 10000
     },
     "inputWidgets": {},
     "nuid": "f674d3ca-a2f8-416c-90bf-84efd6a87596",
     "showTitle": false,
     "tableResultSettingsMap": {},
     "title": ""
    }
   },
   "outputs": [],
   "source": [
    "# Display CDC changes\n",
    "query = cdc_stream.select(\n",
    "    \"transaction_id\",\n",
    "    \"upi_id\",\n",
    "    \"merchant_id\",\n",
    "    \"transaction_amount\",\n",
    "    \"transaction_timestamp\",\n",
    "    \"transaction_status\",\n",
    "    \"_change_type\",\n",
    "    \"_commit_version\",\n",
    "    \"_commit_timestamp\"\n",
    ").writeStream.format(\"console\") \\\n",
    "    .outputMode(\"append\") \\\n",
    "        .start()\n",
    "\n",
    "query.awaitTermination()"
   ]
  },
  {
   "cell_type": "code",
   "execution_count": 0,
   "metadata": {
    "application/vnd.databricks.v1+cell": {
     "cellMetadata": {
      "byteLimit": 2048000,
      "rowLimit": 10000
     },
     "inputWidgets": {},
     "nuid": "13d8849b-a613-4607-b091-367a12d30ca5",
     "showTitle": false,
     "tableResultSettingsMap": {},
     "title": ""
    }
   },
   "outputs": [],
   "source": [
    "from pyspark.sql.functions import col, sum, when\n",
    "from delta.tables import DeltaTable\n",
    "\n",
    "# Target Delta table for aggregated data\n",
    "\n",
    "aggregated_table_name = \"incremental_load.default.aggregated_upi_transactions\"\n",
    "raw_table_name = \"incremental_load.default.upi_transactions_v1\"\n",
    "\n",
    "spark.sql(f\"\"\"\n",
    "          CREATE TABLE IF NOT EXISTS {aggregated_table_name} (\n",
    "              merchant_id STRING,\n",
    "              total_sales DOUBLE,\n",
    "              total_refunds DOUBLE,\n",
    "              net_sales DOUBLE\n",
    ")\n",
    "USING delta\n",
    "\"\"\")\n",
    "\n",
    "# define aggregation logic and merge into target table\n",
    "\n",
    "def process_aggregation(batch_df, batch_id):\n",
    "    print(f\"Processing Batch: {batch_id}\")\n",
    "    aggregated_df = (\n",
    "        batch_df\n",
    "        .filter(col(\"_change_type\").isin(\"insert\", \"update_postimage\"))\n",
    "        .groupBy(\"merchant_id\")\n",
    "        .agg(\n",
    "            sum(when(col(\"transaction_status\") == \"completed\", col(\"transaction_amount\")).otherwise(0)).alias(\"total_sales\"),\n",
    "            sum(when(col(\"transaction_status\") == \"refunded\", -col(\"transaction_amount\")).otherwise(0)).alias(\"total_refunds\")\n",
    "        )\n",
    "        .withColumn(\"net_sales\", col(\"total_sales\") + col(\"total_refunds\"))\n",
    "    )\n",
    "\n",
    "# Merge logic\n",
    "\n",
    "    target_table = DeltaTable.forName(spark, aggregated_table_name)\n",
    "    target_table.alias(\"target\").merge(\n",
    "        aggregated_df.alias(\"source\"),\n",
    "        \"target.merchant_id = source.merchant_id\"\n",
    "    ).whenMatchedUpdate(set={\n",
    "        \"total_sales\": \"target.total_sales + source.total_sales\",\n",
    "        \"total_refunds\": \"target.total_refunds + source.total_refunds\",\n",
    "        \"net_sales\": \"target.net_sales + source.net_sales\"\n",
    "    }).whenNotMatchedInsertAll().execute()\n",
    "\n",
    "cdc_stream = spark.readStream.format(\"delta\").option(\"readChangeFeed\", \"true\").table(raw_table_name)\n",
    "print(\"Read Stream Started.........\")\n",
    "\n",
    "cdc_stream.writeStream.foreachBatch(process_aggregation).outputMode(\"update\").start().awaitTermination()\n",
    "print(\"Write Stream Started.........\")\n",
    "\n",
    "\n",
    "\n"
   ]
  }
 ],
 "metadata": {
  "application/vnd.databricks.v1+notebook": {
   "computePreferences": null,
   "dashboards": [],
   "environmentMetadata": {
    "base_environment": "",
    "client": "2"
   },
   "language": "python",
   "notebookMetadata": {
    "pythonIndentUnit": 4
   },
   "notebookName": "creditcard_aggr and_merge",
   "widgets": {}
  },
  "language_info": {
   "name": "python"
  }
 },
 "nbformat": 4,
 "nbformat_minor": 0
}
